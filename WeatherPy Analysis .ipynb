{
 "cells": [
  {
   "cell_type": "code",
   "execution_count": 36,
   "metadata": {},
   "outputs": [],
   "source": [
    "import numpy as np\n",
    "import pandas as pd\n",
    "import matplotlib.pyplot as plt\n",
    "import openweathermapy.core as ow\n",
    "from datetime import datetime\n",
    "import csv\n",
    "from progressbar import ProgressBar\n",
    "from pprint import pprint\n",
   
   ]
  },
  {
   "cell_type": "code",
   "execution_count": 37,
   "metadata": {},
   "outputs": [],
   "source": [
    "api_key = \"918a83b8747e7ea93d08bc6e4e115339\"\n",
    "settings = {\"units\": \"imperial\", \"appid\": api_key}\n",
    "\n"
   ]
  },
  {
   "cell_type": "code",
   "execution_count": 38,
   "metadata": {},
   "outputs": [],
   "source": [
    "lat = np.random.uniform(-90,90)\n",
    "lng = np.random.uniform(-180,180)\n",
    "\n"
   ]
  },
  {
   "cell_type": "code",
   "execution_count": 39,
   "metadata": {},
   "outputs": [
    {
     "ename": "TypeError",
     "evalue": "object of type 'float' has no len()",
     "output_type": "error",
     "traceback": [
      "\u001b[0;31m---------------------------------------------------------------------------\u001b[0m",
      "\u001b[0;31mTypeError\u001b[0m                                 Traceback (most recent call last)",
      "\u001b[0;32m<ipython-input-39-74ce97f3778c>\u001b[0m in \u001b[0;36m<module>\u001b[0;34m()\u001b[0m\n\u001b[1;32m      6\u001b[0m \u001b[0;34m\u001b[0m\u001b[0m\n\u001b[1;32m      7\u001b[0m \u001b[0mbar\u001b[0m \u001b[0;34m=\u001b[0m \u001b[0mProgressBar\u001b[0m\u001b[0;34m(\u001b[0m\u001b[0;34m)\u001b[0m\u001b[0;34m\u001b[0m\u001b[0m\n\u001b[0;32m----> 8\u001b[0;31m \u001b[0;32mfor\u001b[0m \u001b[0mi\u001b[0m \u001b[0;32min\u001b[0m \u001b[0mbar\u001b[0m\u001b[0;34m(\u001b[0m\u001b[0mrange\u001b[0m\u001b[0;34m(\u001b[0m\u001b[0mlen\u001b[0m\u001b[0;34m(\u001b[0m\u001b[0mlat\u001b[0m\u001b[0;34m)\u001b[0m\u001b[0;34m)\u001b[0m\u001b[0;34m)\u001b[0m\u001b[0;34m:\u001b[0m\u001b[0;34m\u001b[0m\u001b[0m\n\u001b[0m\u001b[1;32m      9\u001b[0m     \u001b[0mweather\u001b[0m\u001b[0;34m.\u001b[0m\u001b[0mset_value\u001b[0m\u001b[0;34m(\u001b[0m\u001b[0mi\u001b[0m\u001b[0;34m,\u001b[0m\u001b[0;34m'city_name'\u001b[0m\u001b[0;34m,\u001b[0m\u001b[0mcitipy\u001b[0m\u001b[0;34m.\u001b[0m\u001b[0mnearest_city\u001b[0m\u001b[0;34m(\u001b[0m\u001b[0mlat\u001b[0m\u001b[0;34m[\u001b[0m\u001b[0mi\u001b[0m\u001b[0;34m]\u001b[0m\u001b[0;34m,\u001b[0m \u001b[0mlng\u001b[0m\u001b[0;34m[\u001b[0m\u001b[0mi\u001b[0m\u001b[0;34m]\u001b[0m\u001b[0;34m)\u001b[0m\u001b[0;34m.\u001b[0m\u001b[0mcity_name\u001b[0m\u001b[0;34m)\u001b[0m\u001b[0;34m\u001b[0m\u001b[0m\n\u001b[1;32m     10\u001b[0m     \u001b[0mweather\u001b[0m\u001b[0;34m.\u001b[0m\u001b[0mset_value\u001b[0m\u001b[0;34m(\u001b[0m\u001b[0mi\u001b[0m\u001b[0;34m,\u001b[0m\u001b[0;34m'country_code'\u001b[0m\u001b[0;34m,\u001b[0m\u001b[0mcitipy\u001b[0m\u001b[0;34m.\u001b[0m\u001b[0mnearest_city\u001b[0m\u001b[0;34m(\u001b[0m\u001b[0mlat\u001b[0m\u001b[0;34m[\u001b[0m\u001b[0mi\u001b[0m\u001b[0;34m]\u001b[0m\u001b[0;34m,\u001b[0m \u001b[0mlng\u001b[0m\u001b[0;34m[\u001b[0m\u001b[0mi\u001b[0m\u001b[0;34m]\u001b[0m\u001b[0;34m)\u001b[0m\u001b[0;34m.\u001b[0m\u001b[0mcountry_code\u001b[0m\u001b[0;34m)\u001b[0m\u001b[0;34m\u001b[0m\u001b[0m\n",
      "\u001b[0;31mTypeError\u001b[0m: object of type 'float' has no len()"
     ]
    }
   ],
   "source": [
    "weather = pd.DataFrame()\n",
    "weather['city_name'] = ''\n",
    "weather['country_code'] = ''\n",
    "weather['latitude'] = ''\n",
    "weather['longitude'] = ''\n",
    "\n",
    "bar = ProgressBar()\n",
    "for i in bar(range(len(lat))):\n",
    "    weather.set_value(i,'city_name',citipy.nearest_city(lat[i], lng[i]).city_name)\n",
    "    weather.set_value(i,'country_code',citipy.nearest_city(lat[i], lng[i]).country_code)\n",
    "    weather.set_value(i,'latitude',round(lat[i],4))\n",
    "    weather.set_value(i,'longitude',round(lng[i],4))\n",
    "    \n"
   ]
  },
  {
   "cell_type": "code",
   "execution_count": 40,
   "metadata": {},
   "outputs": [
    {
     "data": {
      "text/html": [
       "<div>\n",
       "<style scoped>\n",
       "    .dataframe tbody tr th:only-of-type {\n",
       "        vertical-align: middle;\n",
       "    }\n",
       "\n",
       "    .dataframe tbody tr th {\n",
       "        vertical-align: top;\n",
       "    }\n",
       "\n",
       "    .dataframe thead th {\n",
       "        text-align: right;\n",
       "    }\n",
       "</style>\n",
       "<table border=\"1\" class=\"dataframe\">\n",
       "  <thead>\n",
       "    <tr style=\"text-align: right;\">\n",
       "      <th></th>\n",
       "      <th>city_name</th>\n",
       "      <th>country_code</th>\n",
       "      <th>latitude</th>\n",
       "      <th>longitude</th>\n",
       "    </tr>\n",
       "  </thead>\n",
       "  <tbody>\n",
       "  </tbody>\n",
       "</table>\n",
       "</div>"
      ],
      "text/plain": [
       "Empty DataFrame\n",
       "Columns: [city_name, country_code, latitude, longitude]\n",
       "Index: []"
      ]
     },
     "execution_count": 40,
     "metadata": {},
     "output_type": "execute_result"
    }
   ],
   "source": [
    "weather.head()"
   ]
  },
  {
   "cell_type": "code",
   "execution_count": 41,
   "metadata": {},
   "outputs": [
    {
     "ename": "TypeError",
     "evalue": "object of type 'float' has no len()",
     "output_type": "error",
     "traceback": [
      "\u001b[0;31m---------------------------------------------------------------------------\u001b[0m",
      "\u001b[0;31mTypeError\u001b[0m                                 Traceback (most recent call last)",
      "\u001b[0;32m<ipython-input-41-a6d9eae6dc64>\u001b[0m in \u001b[0;36m<module>\u001b[0;34m()\u001b[0m\n\u001b[1;32m     11\u001b[0m \u001b[0murl\u001b[0m \u001b[0;34m=\u001b[0m \u001b[0;34m'http://api.openweathermap.org/data/2.5/weather?'\u001b[0m\u001b[0;34m\u001b[0m\u001b[0m\n\u001b[1;32m     12\u001b[0m \u001b[0;34m\u001b[0m\u001b[0m\n\u001b[0;32m---> 13\u001b[0;31m \u001b[0mprogress\u001b[0m \u001b[0;34m=\u001b[0m \u001b[0mProgressBar\u001b[0m\u001b[0;34m(\u001b[0m\u001b[0mmax_value\u001b[0m\u001b[0;34m=\u001b[0m\u001b[0mlen\u001b[0m\u001b[0;34m(\u001b[0m\u001b[0mlat\u001b[0m\u001b[0;34m)\u001b[0m\u001b[0;34m)\u001b[0m\u001b[0;34m.\u001b[0m\u001b[0mstart\u001b[0m\u001b[0;34m(\u001b[0m\u001b[0;34m)\u001b[0m\u001b[0;34m\u001b[0m\u001b[0m\n\u001b[0m\u001b[1;32m     14\u001b[0m \u001b[0;32mfor\u001b[0m \u001b[0mindex\u001b[0m\u001b[0;34m,\u001b[0m \u001b[0mrow\u001b[0m \u001b[0;32min\u001b[0m \u001b[0mweather\u001b[0m\u001b[0;34m.\u001b[0m\u001b[0miterrows\u001b[0m\u001b[0;34m(\u001b[0m\u001b[0;34m)\u001b[0m\u001b[0;34m:\u001b[0m\u001b[0;34m\u001b[0m\u001b[0m\n\u001b[1;32m     15\u001b[0m     \u001b[0;32mtry\u001b[0m\u001b[0;34m:\u001b[0m\u001b[0;34m\u001b[0m\u001b[0m\n",
      "\u001b[0;31mTypeError\u001b[0m: object of type 'float' has no len()"
     ]
    }
   ],
   "source": [
    "weather['date'] = ''\n",
    "weather['max_temp'] = ''\n",
    "weather['humidity'] = ''\n",
    "weather['cloudiness'] = ''\n",
    "weather['wind_speed'] = ''\n",
    "\n",
    "csv = []\n",
    "csvv = []\n",
    "\n",
    "count = 1\n",
    "url = 'http://api.openweathermap.org/data/2.5/weather?'\n",
    "\n",
    "progress = ProgressBar(max_value=len(lat)).start()\n",
    "for index, row in weather.iterrows():\n",
    "    try:\n",
    "        weather_data = ow.get_current(\"{},{}\".format(row['city_name'],\n",
    "            row['country_code']),**settings)\n",
    "        \n",
    "        weather.set_value(index, 'date', weather_data('dt'))\n",
    "        weather.set_value(index, 'max_temp', weather_data('main.temp_max'))\n",
    "        weather.set_value(index, 'humidity', weather_data('main.humidity'))\n",
    "        weather.set_value(index, 'cloudiness', weather_data('clouds.all'))\n",
    "        weather.set_value(index, 'wind_speed', weather_data('wind.speed'))\n",
    "        \n",
    "        to_csv1.append(\"Record {} of {} | {}\"\\\n",
    "            .format(count, len(weather_df), row['city_name']))\n",
    "        to_csv2.append(\"{}APPID={}&units={}&q={},{}\"\\\n",
    "            .format(url, api_key, settings['units'], row['city_name'], row['country_code']))\n",
    "        \n",
    "        count += 1\n",
    "        progress.update(index+1)\n",
    "        \n",
    "    except:\n",
    "        weather.set_value(index, 'date', np.nan)\n",
    "        weather.set_value(index, 'max_temp', np.nan)\n",
    "        weather.set_value(index, 'humidity', np.nan)\n",
    "        weather.set_value(index, 'cloudiness', np.nan)\n",
    "        weather.set_value(index, 'wind_speed', np.nan)\n",
    "        \n",
    "        count += 1\n",
    "        progress.update(index+1)\n",
    "        \n",
    "progress.finish()"
   ]
  },
  {
   "cell_type": "code",
   "execution_count": 42,
   "metadata": {},
   "outputs": [
    {
     "data": {
      "text/plain": [
       "city_name       0\n",
       "country_code    0\n",
       "latitude        0\n",
       "longitude       0\n",
       "date            0\n",
       "max_temp        0\n",
       "humidity        0\n",
       "cloudiness      0\n",
       "wind_speed      0\n",
       "dtype: int64"
      ]
     },
     "execution_count": 42,
     "metadata": {},
     "output_type": "execute_result"
    }
   ],
   "source": [
    "weather = weather.dropna()\n",
    "weather.count()"
   ]
  },
  {
   "cell_type": "code",
   "execution_count": 27,
   "metadata": {},
   "outputs": [
    {
     "data": {
      "text/html": [
       "<div>\n",
       "<style scoped>\n",
       "    .dataframe tbody tr th:only-of-type {\n",
       "        vertical-align: middle;\n",
       "    }\n",
       "\n",
       "    .dataframe tbody tr th {\n",
       "        vertical-align: top;\n",
       "    }\n",
       "\n",
       "    .dataframe thead th {\n",
       "        text-align: right;\n",
       "    }\n",
       "</style>\n",
       "<table border=\"1\" class=\"dataframe\">\n",
       "  <thead>\n",
       "    <tr style=\"text-align: right;\">\n",
       "      <th></th>\n",
       "      <th>city_name</th>\n",
       "      <th>country_code</th>\n",
       "      <th>latitude</th>\n",
       "      <th>longitude</th>\n",
       "      <th>date</th>\n",
       "      <th>max_temp</th>\n",
       "      <th>humidity</th>\n",
       "      <th>cloudiness</th>\n",
       "      <th>wind_speed</th>\n",
       "    </tr>\n",
       "  </thead>\n",
       "  <tbody>\n",
       "  </tbody>\n",
       "</table>\n",
       "</div>"
      ],
      "text/plain": [
       "Empty DataFrame\n",
       "Columns: [city_name, country_code, latitude, longitude, date, max_temp, humidity, cloudiness, wind_speed]\n",
       "Index: []"
      ]
     },
     "execution_count": 27,
     "metadata": {},
     "output_type": "execute_result"
    }
   ],
   "source": [
    "weather.head()"
   ]
  },
  {
   "cell_type": "code",
   "execution_count": 28,
   "metadata": {},
   "outputs": [
    {
     "ename": "IndexError",
     "evalue": "index out of bounds",
     "output_type": "error",
     "traceback": [
      "\u001b[0;31m---------------------------------------------------------------------------\u001b[0m",
      "\u001b[0;31mKeyError\u001b[0m                                  Traceback (most recent call last)",
      "\u001b[0;32m/anaconda3/lib/python3.6/site-packages/pandas/core/indexes/base.py\u001b[0m in \u001b[0;36mget_value\u001b[0;34m(self, series, key)\u001b[0m\n\u001b[1;32m   3102\u001b[0m             return self._engine.get_value(s, k,\n\u001b[0;32m-> 3103\u001b[0;31m                                           tz=getattr(series.dtype, 'tz', None))\n\u001b[0m\u001b[1;32m   3104\u001b[0m         \u001b[0;32mexcept\u001b[0m \u001b[0mKeyError\u001b[0m \u001b[0;32mas\u001b[0m \u001b[0me1\u001b[0m\u001b[0;34m:\u001b[0m\u001b[0;34m\u001b[0m\u001b[0m\n",
      "\u001b[0;32mpandas/_libs/index.pyx\u001b[0m in \u001b[0;36mpandas._libs.index.IndexEngine.get_value\u001b[0;34m()\u001b[0m\n",
      "\u001b[0;32mpandas/_libs/index.pyx\u001b[0m in \u001b[0;36mpandas._libs.index.IndexEngine.get_value\u001b[0;34m()\u001b[0m\n",
      "\u001b[0;32mpandas/_libs/index.pyx\u001b[0m in \u001b[0;36mpandas._libs.index.IndexEngine.get_loc\u001b[0;34m()\u001b[0m\n",
      "\u001b[0;32mpandas/_libs/hashtable_class_helper.pxi\u001b[0m in \u001b[0;36mpandas._libs.hashtable.PyObjectHashTable.get_item\u001b[0;34m()\u001b[0m\n",
      "\u001b[0;32mpandas/_libs/hashtable_class_helper.pxi\u001b[0m in \u001b[0;36mpandas._libs.hashtable.PyObjectHashTable.get_item\u001b[0;34m()\u001b[0m\n",
      "\u001b[0;31mKeyError\u001b[0m: 0",
      "\nDuring handling of the above exception, another exception occurred:\n",
      "\u001b[0;31mIndexError\u001b[0m                                Traceback (most recent call last)",
      "\u001b[0;32m<ipython-input-28-7b5ea3320dc2>\u001b[0m in \u001b[0;36m<module>\u001b[0;34m()\u001b[0m\n\u001b[0;32m----> 1\u001b[0;31m \u001b[0mtemplot\u001b[0m \u001b[0;34m=\u001b[0m \u001b[0mdatetime\u001b[0m\u001b[0;34m.\u001b[0m\u001b[0mfromtimestamp\u001b[0m\u001b[0;34m(\u001b[0m\u001b[0mweather\u001b[0m\u001b[0;34m[\u001b[0m\u001b[0;34m'date'\u001b[0m\u001b[0;34m]\u001b[0m\u001b[0;34m[\u001b[0m\u001b[0;36m0\u001b[0m\u001b[0;34m]\u001b[0m\u001b[0;34m)\u001b[0m                    \u001b[0;34m.\u001b[0m\u001b[0mstrftime\u001b[0m\u001b[0;34m(\u001b[0m\u001b[0;34m'%Y-%m-%d %H:%M:%S'\u001b[0m\u001b[0;34m)\u001b[0m\u001b[0;34m.\u001b[0m\u001b[0msplit\u001b[0m\u001b[0;34m(\u001b[0m\u001b[0;34m)\u001b[0m\u001b[0;34m[\u001b[0m\u001b[0;36m0\u001b[0m\u001b[0;34m]\u001b[0m\u001b[0;34m\u001b[0m\u001b[0m\n\u001b[0m",
      "\u001b[0;32m/anaconda3/lib/python3.6/site-packages/pandas/core/series.py\u001b[0m in \u001b[0;36m__getitem__\u001b[0;34m(self, key)\u001b[0m\n\u001b[1;32m    764\u001b[0m         \u001b[0mkey\u001b[0m \u001b[0;34m=\u001b[0m \u001b[0mcom\u001b[0m\u001b[0;34m.\u001b[0m\u001b[0m_apply_if_callable\u001b[0m\u001b[0;34m(\u001b[0m\u001b[0mkey\u001b[0m\u001b[0;34m,\u001b[0m \u001b[0mself\u001b[0m\u001b[0;34m)\u001b[0m\u001b[0;34m\u001b[0m\u001b[0m\n\u001b[1;32m    765\u001b[0m         \u001b[0;32mtry\u001b[0m\u001b[0;34m:\u001b[0m\u001b[0;34m\u001b[0m\u001b[0m\n\u001b[0;32m--> 766\u001b[0;31m             \u001b[0mresult\u001b[0m \u001b[0;34m=\u001b[0m \u001b[0mself\u001b[0m\u001b[0;34m.\u001b[0m\u001b[0mindex\u001b[0m\u001b[0;34m.\u001b[0m\u001b[0mget_value\u001b[0m\u001b[0;34m(\u001b[0m\u001b[0mself\u001b[0m\u001b[0;34m,\u001b[0m \u001b[0mkey\u001b[0m\u001b[0;34m)\u001b[0m\u001b[0;34m\u001b[0m\u001b[0m\n\u001b[0m\u001b[1;32m    767\u001b[0m \u001b[0;34m\u001b[0m\u001b[0m\n\u001b[1;32m    768\u001b[0m             \u001b[0;32mif\u001b[0m \u001b[0;32mnot\u001b[0m \u001b[0mis_scalar\u001b[0m\u001b[0;34m(\u001b[0m\u001b[0mresult\u001b[0m\u001b[0;34m)\u001b[0m\u001b[0;34m:\u001b[0m\u001b[0;34m\u001b[0m\u001b[0m\n",
      "\u001b[0;32m/anaconda3/lib/python3.6/site-packages/pandas/core/indexes/base.py\u001b[0m in \u001b[0;36mget_value\u001b[0;34m(self, series, key)\u001b[0m\n\u001b[1;32m   3107\u001b[0m \u001b[0;34m\u001b[0m\u001b[0m\n\u001b[1;32m   3108\u001b[0m             \u001b[0;32mtry\u001b[0m\u001b[0;34m:\u001b[0m\u001b[0;34m\u001b[0m\u001b[0m\n\u001b[0;32m-> 3109\u001b[0;31m                 \u001b[0;32mreturn\u001b[0m \u001b[0mlibindex\u001b[0m\u001b[0;34m.\u001b[0m\u001b[0mget_value_box\u001b[0m\u001b[0;34m(\u001b[0m\u001b[0ms\u001b[0m\u001b[0;34m,\u001b[0m \u001b[0mkey\u001b[0m\u001b[0;34m)\u001b[0m\u001b[0;34m\u001b[0m\u001b[0m\n\u001b[0m\u001b[1;32m   3110\u001b[0m             \u001b[0;32mexcept\u001b[0m \u001b[0mIndexError\u001b[0m\u001b[0;34m:\u001b[0m\u001b[0;34m\u001b[0m\u001b[0m\n\u001b[1;32m   3111\u001b[0m                 \u001b[0;32mraise\u001b[0m\u001b[0;34m\u001b[0m\u001b[0m\n",
      "\u001b[0;32mpandas/_libs/index.pyx\u001b[0m in \u001b[0;36mpandas._libs.index.get_value_box\u001b[0;34m()\u001b[0m\n",
      "\u001b[0;32mpandas/_libs/index.pyx\u001b[0m in \u001b[0;36mpandas._libs.index.get_value_box\u001b[0;34m()\u001b[0m\n",
      "\u001b[0;31mIndexError\u001b[0m: index out of bounds"
     ]
    }
   ],
   "source": [
    "templot = datetime.fromtimestamp(weather['date'][0])\\\n",
    "                    .strftime('%Y-%m-%d %H:%M:%S').split()[0]"
   ]
  },
  {
   "cell_type": "code",
   "execution_count": 29,
   "metadata": {},
   "outputs": [
    {
     "ename": "SyntaxError",
     "evalue": "unexpected EOF while parsing (<ipython-input-29-ee1f84de1783>, line 3)",
     "output_type": "error",
     "traceback": [
      "\u001b[0;36m  File \u001b[0;32m\"<ipython-input-29-ee1f84de1783>\"\u001b[0;36m, line \u001b[0;32m3\u001b[0m\n\u001b[0;31m    \u001b[0m\n\u001b[0m    ^\u001b[0m\n\u001b[0;31mSyntaxError\u001b[0m\u001b[0;31m:\u001b[0m unexpected EOF while parsing\n"
     ]
    }
   ],
   "source": [
    "fig, ax = plt.subplots(figsize=(11,9)\n",
    "\n",
    "                      "
   ]
  },
  {
   "cell_type": "code",
   "execution_count": 30,
   "metadata": {},
   "outputs": [
    {
     "ename": "NameError",
     "evalue": "name 'weather_df' is not defined",
     "output_type": "error",
     "traceback": [
      "\u001b[0;31m---------------------------------------------------------------------------\u001b[0m",
      "\u001b[0;31mNameError\u001b[0m                                 Traceback (most recent call last)",
      "\u001b[0;32m<ipython-input-30-85e7e16cf421>\u001b[0m in \u001b[0;36m<module>\u001b[0;34m()\u001b[0m\n\u001b[0;32m----> 1\u001b[0;31m scatter = ax.scatter(weather['latitude'],weather_df['max_temp'], \n\u001b[0m\u001b[1;32m      2\u001b[0m             c=weather['max_temp'], cmap=plt.cm.coolwarm, zorder=2)\n",
      "\u001b[0;31mNameError\u001b[0m: name 'weather_df' is not defined"
     ]
    }
   ],
   "source": [
    "scatter = ax.scatter(weather['latitude'],weather['max_temp'], \n",
    "            c=weather['max_temp'], cmap=plt.cm.coolwarm, zorder=2)"
   ]
  },
  {
   "cell_type": "code",
   "execution_count": 33,
   "metadata": {},
   "outputs": [
    {
     "ename": "NameError",
     "evalue": "name 'templot' is not defined",
     "output_type": "error",
     "traceback": [
      "\u001b[0;31m---------------------------------------------------------------------------\u001b[0m",
      "\u001b[0;31mNameError\u001b[0m                                 Traceback (most recent call last)",
      "\u001b[0;32m<ipython-input-33-15446f91111b>\u001b[0m in \u001b[0;36m<module>\u001b[0;34m()\u001b[0m\n\u001b[0;32m----> 1\u001b[0;31m \u001b[0max\u001b[0m\u001b[0;34m.\u001b[0m\u001b[0mset_title\u001b[0m\u001b[0;34m(\u001b[0m\u001b[0;34m'City Latitude vs Max Temperature ({})'\u001b[0m\u001b[0;34m.\u001b[0m\u001b[0mformat\u001b[0m\u001b[0;34m(\u001b[0m\u001b[0mtemplot\u001b[0m\u001b[0;34m)\u001b[0m\u001b[0;34m,\u001b[0m \u001b[0mfontdict\u001b[0m\u001b[0;34m=\u001b[0m\u001b[0;34m{\u001b[0m\u001b[0;34m\"fontsize\"\u001b[0m\u001b[0;34m:\u001b[0m\u001b[0;36m18\u001b[0m\u001b[0;34m}\u001b[0m\u001b[0;34m)\u001b[0m\u001b[0;34m\u001b[0m\u001b[0m\n\u001b[0m\u001b[1;32m      2\u001b[0m \u001b[0max\u001b[0m\u001b[0;34m.\u001b[0m\u001b[0mset_xlabel\u001b[0m\u001b[0;34m(\u001b[0m\u001b[0;34m'Latitude'\u001b[0m\u001b[0;34m,\u001b[0m \u001b[0mfontdict\u001b[0m\u001b[0;34m=\u001b[0m\u001b[0;34m{\u001b[0m\u001b[0;34m\"fontsize\"\u001b[0m\u001b[0;34m:\u001b[0m\u001b[0;36m16\u001b[0m\u001b[0;34m}\u001b[0m\u001b[0;34m)\u001b[0m\u001b[0;34m\u001b[0m\u001b[0m\n\u001b[1;32m      3\u001b[0m \u001b[0max\u001b[0m\u001b[0;34m.\u001b[0m\u001b[0mset_ylabel\u001b[0m\u001b[0;34m(\u001b[0m\u001b[0;34m'Max Temperature (F)'\u001b[0m\u001b[0;34m,\u001b[0m \u001b[0mfontdict\u001b[0m\u001b[0;34m=\u001b[0m\u001b[0;34m{\u001b[0m\u001b[0;34m\"fontsize\"\u001b[0m\u001b[0;34m:\u001b[0m\u001b[0;36m16\u001b[0m\u001b[0;34m}\u001b[0m\u001b[0;34m)\u001b[0m\u001b[0;34m\u001b[0m\u001b[0m\n\u001b[1;32m      4\u001b[0m \u001b[0max\u001b[0m\u001b[0;34m.\u001b[0m\u001b[0mset_xlim\u001b[0m\u001b[0;34m(\u001b[0m\u001b[0;34m-\u001b[0m\u001b[0;36m100\u001b[0m\u001b[0;34m,\u001b[0m\u001b[0;36m100\u001b[0m\u001b[0;34m)\u001b[0m\u001b[0;34m\u001b[0m\u001b[0m\n\u001b[1;32m      5\u001b[0m \u001b[0max\u001b[0m\u001b[0;34m.\u001b[0m\u001b[0mset_ylim\u001b[0m\u001b[0;34m(\u001b[0m\u001b[0;34m-\u001b[0m\u001b[0;36m100\u001b[0m\u001b[0;34m,\u001b[0m\u001b[0;36m150\u001b[0m\u001b[0;34m)\u001b[0m\u001b[0;34m\u001b[0m\u001b[0m\n",
      "\u001b[0;31mNameError\u001b[0m: name 'templot' is not defined"
     ]
    }
   ],
   "source": [
    "ax.set_title('City Latitude vs Max Temperature ({})'.format(templot), fontdict={\"fontsize\":18})\n",
    "ax.set_xlabel('Latitude', fontdict={\"fontsize\":16})\n",
    "ax.set_ylabel('Max Temperature (F)', fontdict={\"fontsize\":16})\n",
    "ax.set_xlim(-100,100)\n",
    "ax.set_ylim(-100,150)\n",
    "ax.vlines(0,-100,150)\n",
    "ax.text(-5,0,'equator', rotation=90, fontdict={\"fontsize\":14})\n",
    "ax.grid()\n"
   ]
  },
  {
   "cell_type": "code",
   "execution_count": 35,
   "metadata": {},
   "outputs": [
    {
     "ename": "NameError",
     "evalue": "name 'templot' is not defined",
     "output_type": "error",
     "traceback": [
      "\u001b[0;31m---------------------------------------------------------------------------\u001b[0m",
      "\u001b[0;31mNameError\u001b[0m                                 Traceback (most recent call last)",
      "\u001b[0;32m<ipython-input-35-c9155d02ea17>\u001b[0m in \u001b[0;36m<module>\u001b[0;34m()\u001b[0m\n\u001b[1;32m      4\u001b[0m \u001b[0;34m\u001b[0m\u001b[0m\n\u001b[1;32m      5\u001b[0m \u001b[0;34m\u001b[0m\u001b[0m\n\u001b[0;32m----> 6\u001b[0;31m \u001b[0max\u001b[0m\u001b[0;34m.\u001b[0m\u001b[0mset_title\u001b[0m\u001b[0;34m(\u001b[0m\u001b[0;34m'City Latitude vs Humidity ({})'\u001b[0m\u001b[0;34m.\u001b[0m\u001b[0mformat\u001b[0m\u001b[0;34m(\u001b[0m\u001b[0mtemplot\u001b[0m\u001b[0;34m)\u001b[0m\u001b[0;34m,\u001b[0m \u001b[0mfontdict\u001b[0m\u001b[0;34m=\u001b[0m\u001b[0;34m{\u001b[0m\u001b[0;34m\"fontsize\"\u001b[0m\u001b[0;34m:\u001b[0m\u001b[0;36m18\u001b[0m\u001b[0;34m}\u001b[0m\u001b[0;34m)\u001b[0m\u001b[0;34m\u001b[0m\u001b[0m\n\u001b[0m\u001b[1;32m      7\u001b[0m \u001b[0max\u001b[0m\u001b[0;34m.\u001b[0m\u001b[0mset_xlabel\u001b[0m\u001b[0;34m(\u001b[0m\u001b[0;34m'Latitude'\u001b[0m\u001b[0;34m,\u001b[0m \u001b[0mfontdict\u001b[0m\u001b[0;34m=\u001b[0m\u001b[0;34m{\u001b[0m\u001b[0;34m\"fontsize\"\u001b[0m\u001b[0;34m:\u001b[0m\u001b[0;36m16\u001b[0m\u001b[0;34m}\u001b[0m\u001b[0;34m)\u001b[0m\u001b[0;34m\u001b[0m\u001b[0m\n\u001b[1;32m      8\u001b[0m \u001b[0max\u001b[0m\u001b[0;34m.\u001b[0m\u001b[0mset_ylabel\u001b[0m\u001b[0;34m(\u001b[0m\u001b[0;34m'Humidity (%)'\u001b[0m\u001b[0;34m,\u001b[0m \u001b[0mfontdict\u001b[0m\u001b[0;34m=\u001b[0m\u001b[0;34m{\u001b[0m\u001b[0;34m\"fontsize\"\u001b[0m\u001b[0;34m:\u001b[0m\u001b[0;36m16\u001b[0m\u001b[0;34m}\u001b[0m\u001b[0;34m)\u001b[0m\u001b[0;34m\u001b[0m\u001b[0m\n",
      "\u001b[0;31mNameError\u001b[0m: name 'templot' is not defined"
     ]
    },
    {
     "data": {
      "image/png": "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\n",
      "text/plain": [
       "<Figure size 720x576 with 1 Axes>"
      ]
     },
     "metadata": {},
     "output_type": "display_data"
    }
   ],
   "source": [
    "fig,ax = plt.subplots(figsize=(10,8))\n",
    "ax.scatter(weather['latitude'],weather['humidity'],\n",
    "           c=weather['humidity'], cmap=plt.cm.Blues, zorder=2)\n",
    "\n",
    "\n",
    "ax.set_title('City Latitude vs Humidity ({})'.format(templot), fontdict={\"fontsize\":18})\n",
    "ax.set_xlabel('Latitude', fontdict={\"fontsize\":16})\n",
    "ax.set_ylabel('Humidity (%)', fontdict={\"fontsize\":16})\n",
    "ax.set_xlim(-100,100)\n",
    "ax.set_ylim(-20,120)\n",
    "ax.vlines(0,-20,120)\n",
    "ax.text(-5, 10,'equator', rotation=90, fontdict={\"fontsize\":14})"
   ]
  },
  {
   "cell_type": "code",
   "execution_count": null,
   "metadata": {},
   "outputs": [],
   "source": []
  },
  {
   "cell_type": "code",
   "execution_count": null,
   "metadata": {},
   "outputs": [],
   "source": []
  },
  {
   "cell_type": "code",
   "execution_count": null,
   "metadata": {},
   "outputs": [],
   "source": []
  },
  {
   "cell_type": "code",
   "execution_count": null,
   "metadata": {},
   "outputs": [],
   "source": []
  }
 ],
 "metadata": {
  "kernelspec": {
   "display_name": "Python 3",
   "language": "python",
   "name": "python3"
  },
  "language_info": {
   "codemirror_mode": {
    "name": "ipython",
    "version": 3
   },
   "file_extension": ".py",
   "mimetype": "text/x-python",
   "name": "python",
   "nbconvert_exporter": "python",
   "pygments_lexer": "ipython3",
   "version": "3.6.5"
  }
 },
 "nbformat": 4,
 "nbformat_minor": 2
}
